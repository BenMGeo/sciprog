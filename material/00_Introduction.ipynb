{
 "cells": [
  {
   "cell_type": "markdown",
   "metadata": {
    "deletable": true,
    "editable": true,
    "slideshow": {
     "slide_type": "slide"
    }
   },
   "source": [
    "# Scientific computing in Python\n",
    "\n",
    "## Welcome!\n",
    "\n",
    "Prof. Dr. Alexander Löw, LMU, SS2017"
   ]
  },
  {
   "cell_type": "markdown",
   "metadata": {
    "deletable": true,
    "editable": true,
    "slideshow": {
     "slide_type": "slide"
    }
   },
   "source": [
    "## This lecture is different!"
   ]
  },
  {
   "cell_type": "markdown",
   "metadata": {
    "deletable": true,
    "editable": true,
    "slideshow": {
     "slide_type": "slide"
    }
   },
   "source": [
    "* ... experiment\n",
    "* ... no examn\n",
    "* ... no credits"
   ]
  },
  {
   "cell_type": "markdown",
   "metadata": {
    "deletable": true,
    "editable": true,
    "slideshow": {
     "slide_type": "slide"
    }
   },
   "source": [
    "* ... lot of fun (hopefully)\n",
    "* ... new experiences"
   ]
  },
  {
   "cell_type": "markdown",
   "metadata": {
    "slideshow": {
     "slide_type": "slide"
    }
   },
   "source": [
    "## Why are you here? Motivation?"
   ]
  },
  {
   "cell_type": "markdown",
   "metadata": {
    "deletable": true,
    "editable": true,
    "slideshow": {
     "slide_type": "slide"
    }
   },
   "source": [
    "## What is needed?\n",
    "\n",
    "Curiosity!"
   ]
  },
  {
   "cell_type": "markdown",
   "metadata": {
    "deletable": true,
    "editable": true,
    "slideshow": {
     "slide_type": "slide"
    }
   },
   "source": [
    "## \"Where I am, I want to be!\"\n"
   ]
  },
  {
   "cell_type": "markdown",
   "metadata": {
    "deletable": true,
    "editable": true,
    "slideshow": {
     "slide_type": "slide"
    }
   },
   "source": [
    "## Objectives\n",
    "\n",
    "### This course will cover\n",
    "\n",
    "* Introduction in (python) programming\n",
    "* Scientific Computing in Python\n",
    "* Data visualisation for scientific applications\n",
    "* Computing for environmental modelling\n",
    "* Computing for image analysis\n"
   ]
  },
  {
   "cell_type": "markdown",
   "metadata": {
    "deletable": true,
    "editable": true,
    "slideshow": {
     "slide_type": "slide"
    }
   },
   "source": [
    "### Learning outcomes\n",
    "\n",
    "At the end of the module, students should:\n",
    "\n",
    "* have an understanding of algorithm development and be able to use widely used scientific computing software to manipulate datasets and accomplish analytical tasks\n",
    "* have an understanding of the technical issues specific to image-based analysis, model implementation and scientific visualisation"
   ]
  },
  {
   "cell_type": "markdown",
   "metadata": {
    "deletable": true,
    "editable": true,
    "slideshow": {
     "slide_type": "slide"
    }
   },
   "source": [
    "# Learning by doing!\n",
    "\n",
    "We will try to solve as far as possible pratical scientifc problems. Only if you have a real problem you work towards, you will learn most.\n",
    "\n",
    "Examples:\n",
    "\n",
    "* Build a simple land surface model\n",
    "* Build some algorithm for remote sensing image analysis\n",
    "* Build some agent based economic model\n",
    "* Build a game\n",
    "* Program a literature database\n",
    "* ...\n",
    "\n",
    "**Task01**\n",
    "\n",
    "* collect ideas what kind of projects you would like to work on throughout the course. We might then select 2-3 projects and work on these. ($\\rightarrow$ Moodle)"
   ]
  },
  {
   "cell_type": "markdown",
   "metadata": {
    "deletable": true,
    "editable": true,
    "slideshow": {
     "slide_type": "slide"
    }
   },
   "source": [
    "## Organizational matters\n",
    "\n",
    "* Assignments will be done in [MOODLE digital classroom](https://moodle.lmu.de). **Task02:**  register there until next week.\n",
    "\n",
    "### Working with the course material\n",
    "\n",
    "* easiest way is to view the course material online on [github](https://github.com/geography-munich/sciprog).\n",
    "* as all course material is publically available, you can also download the most recent version to work on your own computer but `cloning` the resources"
   ]
  },
  {
   "cell_type": "code",
   "execution_count": 4,
   "metadata": {
    "collapsed": false,
    "deletable": true,
    "editable": true,
    "slideshow": {
     "slide_type": "fragment"
    }
   },
   "outputs": [],
   "source": [
    "%%bash\n",
    "# just uncomment the line below\n",
    "# git clone git@github.com:geography-munich/sciprog.git"
   ]
  },
  {
   "cell_type": "markdown",
   "metadata": {
    "deletable": true,
    "editable": true,
    "slideshow": {
     "slide_type": "slide"
    }
   },
   "source": [
    "# Credits\n",
    "\n",
    "This course was inspired and is using material from a variety of different sources. The very valuable information from these sources is highly acknowledged. The following ressources were used in particular to compile the content of this course:\n",
    "\n",
    "* [Scientific computing, Prof. P. Lewis, UCL](https://github.com/profLewis/geogg122)\n",
    "* [Introducing Python](https://github.com/madscheme/introducing-python)\n",
    "* [Lectures on Scientific Computing with Python](https://github.com/jrjohansson/scientific-python-lectures)"
   ]
  },
  {
   "cell_type": "code",
   "execution_count": null,
   "metadata": {
    "collapsed": true,
    "deletable": true,
    "editable": true
   },
   "outputs": [],
   "source": []
  }
 ],
 "metadata": {
  "celltoolbar": "Slideshow",
  "kernelspec": {
   "display_name": "Python 2",
   "language": "python",
   "name": "python2"
  },
  "language_info": {
   "codemirror_mode": {
    "name": "ipython",
    "version": 2
   },
   "file_extension": ".py",
   "mimetype": "text/x-python",
   "name": "python",
   "nbconvert_exporter": "python",
   "pygments_lexer": "ipython2",
   "version": "2.7.12"
  }
 },
 "nbformat": 4,
 "nbformat_minor": 2
}
