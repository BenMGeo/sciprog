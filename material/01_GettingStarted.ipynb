{
 "cells": [
  {
   "cell_type": "markdown",
   "metadata": {},
   "source": [
    "# Getting started"
   ]
  },
  {
   "cell_type": "markdown",
   "metadata": {},
   "source": [
    "## Getting python"
   ]
  },
  {
   "cell_type": "markdown",
   "metadata": {},
   "source": [
    "**Where to get python from?**\n",
    "\n",
    "* Often python is already installed on your operating system (OS)\n",
    "* The offical download of the python interpreter is [here](https://www.python.org/downloads/)\n",
    "* Most convenient way (today) is to use ([ana](https://www.continuum.io/downloads))[conda](https://www.python.org/downloads/) for the installation of python (and in particular additional packages ... more on that later).\n",
    "\n",
    "... with that you should be ready to go."
   ]
  },
  {
   "cell_type": "markdown",
   "metadata": {},
   "source": [
    "### Which python?\n",
    "\n",
    "* python 2.7\n",
    "* python 3.x"
   ]
  },
  {
   "cell_type": "markdown",
   "metadata": {},
   "source": [
    "## Python interpreters and how to use them ...\n",
    "\n",
    "Python is an interpreted language. This means that the code is interpreted while executed.\n",
    "\n",
    "There are different interpreters existing\n",
    "\n",
    "* general python shell (mostly used to run programs)\n",
    "* [ipython](https://ipython.org) = interactive python (good for interactive work)\n",
    "* jupyter notebooks (this thing here $\\rightarrow$ running code in a browser)\n",
    "\n",
    "Information on [python interpreters](sub/jrjohansson/Lecture-0-Scientific-Computing-with-Python.ipynb).\n",
    "\n",
    "\n"
   ]
  },
  {
   "cell_type": "markdown",
   "metadata": {},
   "source": [
    "## Editing python code\n",
    "\n",
    "A by far **non** complete list of editors."
   ]
  },
  {
   "cell_type": "markdown",
   "metadata": {},
   "source": [
    "### python specific editors\n",
    "\n",
    "* jupyter notebook\n",
    "\n",
    "\n",
    "### IDE's\n",
    "\n",
    "* pycharm\n",
    "* eclipse\n",
    "\n",
    "### Advanced generic text editors\n",
    "\n",
    "* geany\n",
    "* vim (plugins: pyflakes, jedi-vim)\n",
    "* emacs (python-mode.el, auto-complete, yasnippet)\n",
    "* sublime 2\n",
    "* spyder\n",
    "\n",
    "\n",
    "### Generic text editors\n",
    "* nedit\n",
    "* gedit\n",
    "* kate\n",
    "* snipmate\n",
    "* easymotion\n",
    "* nerdtree"
   ]
  }
 ],
 "metadata": {
  "kernelspec": {
   "display_name": "Python 2",
   "language": "python",
   "name": "python2"
  },
  "language_info": {
   "codemirror_mode": {
    "name": "ipython",
    "version": 2
   },
   "file_extension": ".py",
   "mimetype": "text/x-python",
   "name": "python",
   "nbconvert_exporter": "python",
   "pygments_lexer": "ipython2",
   "version": "2.7.13"
  }
 },
 "nbformat": 4,
 "nbformat_minor": 2
}
