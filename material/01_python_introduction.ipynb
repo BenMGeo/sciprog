{
 "cells": [
  {
   "cell_type": "markdown",
   "metadata": {
    "deletable": true,
    "editable": true
   },
   "source": [
    "# A python primer"
   ]
  },
  {
   "cell_type": "markdown",
   "metadata": {},
   "source": [
    "## Why python?"
   ]
  },
  {
   "cell_type": "markdown",
   "metadata": {
    "deletable": true,
    "editable": true
   },
   "source": [
    "## Let's *not* reinvent the wheel ... some usefull ressources\n",
    "\n",
    "A compilation of great ressources can be found in the [Python Learning Resources](https://github.com/CodementorIO/Python-Learning-Resources).\n",
    "\n",
    "Some excellent ressources this course benefits from:\n",
    "\n",
    "* [Introducing Python](https://github.com/madscheme/introducing-python)\n",
    "* [Lectures on Scientific Computing with Python](https://github.com/jrjohansson/scientific-python-lectures)\n",
    "* [Scientific computing, Prof. P. Lewis, UCL](https://github.com/profLewis/geogg122)\n",
    "\n",
    "\n",
    "    * ZMAW Wiki\n",
    "    \n",
    "    \n"
   ]
  },
  {
   "cell_type": "code",
   "execution_count": null,
   "metadata": {
    "collapsed": true,
    "deletable": true,
    "editable": true
   },
   "outputs": [],
   "source": [
    "Aufgabe: kleine Programme selber schreiben; Hello world, einfache Arithmatik etc."
   ]
  },
  {
   "cell_type": "code",
   "execution_count": null,
   "metadata": {
    "collapsed": true
   },
   "outputs": [],
   "source": [
    "some appeticers\n",
    "\n",
    "matplotlib gallery\n",
    "\n",
    "where is python used ???\n",
    "\n",
    "do's and donts\n",
    "\n",
    "Link to you tube video on IS function"
   ]
  }
 ],
 "metadata": {
  "kernelspec": {
   "display_name": "Python 3",
   "language": "python",
   "name": "python3"
  },
  "language_info": {
   "codemirror_mode": {
    "name": "ipython",
    "version": 3
   },
   "file_extension": ".py",
   "mimetype": "text/x-python",
   "name": "python",
   "nbconvert_exporter": "python",
   "pygments_lexer": "ipython3",
   "version": "3.6.0"
  }
 },
 "nbformat": 4,
 "nbformat_minor": 2
}
