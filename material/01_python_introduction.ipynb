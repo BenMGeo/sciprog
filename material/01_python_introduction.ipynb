{
 "cells": [
  {
   "cell_type": "markdown",
   "metadata": {
    "deletable": true,
    "editable": true
   },
   "source": [
    "# A python primer"
   ]
  },
  {
   "cell_type": "markdown",
   "metadata": {
    "deletable": true,
    "editable": true
   },
   "source": [
    "## Why python?"
   ]
  },
  {
   "cell_type": "markdown",
   "metadata": {
    "deletable": true,
    "editable": true
   },
   "source": [
    "[Why programming?](sub/jrjohansson/Lecture-0-Scientific-Computing-with-Python.ipynb)\n",
    "\n",
    "[Why python?](sub/koldunov/00 - Why Python.ipynb)\n",
    "\n",
    "\n",
    "![](sub/jrjohansson/images/optimizing-what.png)\n"
   ]
  },
  {
   "cell_type": "markdown",
   "metadata": {
    "collapsed": true,
    "deletable": true,
    "editable": true
   },
   "source": [
    "### Examples ... why should I learn python\n",
    "\n",
    "* ... because it makes your life easier\n",
    "* ... job perspectives\n",
    "\n",
    "* python is THE evolving language in Earth System Science. A lot of institutes currently change their code and workflows to python (e.g. UK MetOffice)\n",
    "\n",
    "\n",
    "### Where is it used?\n",
    "\n",
    "* scritping language in GIS systems (QGis, ArcGIS)\n",
    "* time series analysis\n",
    "* climate data analysis\n",
    "* web development\n",
    "* general scripting and coding\n",
    "* HPC applications\n",
    "\n",
    "* [Social media analysis and big data](https://marcobonzanini.com/2015/03/02/mining-twitter-data-with-python-part-1/)\n",
    "\n"
   ]
  },
  {
   "cell_type": "markdown",
   "metadata": {
    "deletable": true,
    "editable": true
   },
   "source": [
    "## Let's *not* reinvent the wheel ... some usefull ressources\n",
    "\n",
    "A compilation of great ressources can be found in the [Python Learning Resources](https://github.com/CodementorIO/Python-Learning-Resources).\n",
    "\n",
    "Some excellent ressources this course benefits from:\n",
    "\n",
    "* [Introducing Python](https://github.com/madscheme/introducing-python)\n",
    "* [Python course (Uni-HH), Kaleschke, Loew](https://wiki.cen.uni-hamburg.de/lehre/PythonCourse)\n",
    "* [Lectures on Scientific Computing with Python](https://github.com/jrjohansson/scientific-python-lectures)\n",
    "* [Scientific computing, Prof. P. Lewis, UCL](https://github.com/profLewis/geogg122)\n",
    "* [Python for Geosciences, Nikolay Koldunov](https://github.com/koldunovn/python_for_geosciences)\n",
    "\n",
    "\n",
    "### And in particular ...\n",
    "\n",
    "Go to [YouTube](https://www.youtube.com) and get your favorite introduction there.\n",
    "\n",
    "    \n",
    "    \n"
   ]
  },
  {
   "cell_type": "code",
   "execution_count": null,
   "metadata": {
    "collapsed": true,
    "deletable": true,
    "editable": true
   },
   "outputs": [],
   "source": []
  }
 ],
 "metadata": {
  "kernelspec": {
   "display_name": "Python 3",
   "language": "python",
   "name": "python3"
  },
  "language_info": {
   "codemirror_mode": {
    "name": "ipython",
    "version": 3
   },
   "file_extension": ".py",
   "mimetype": "text/x-python",
   "name": "python",
   "nbconvert_exporter": "python",
   "pygments_lexer": "ipython3",
   "version": "3.6.1"
  }
 },
 "nbformat": 4,
 "nbformat_minor": 2
}
