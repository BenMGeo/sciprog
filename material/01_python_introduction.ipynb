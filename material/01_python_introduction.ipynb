{
 "cells": [
  {
   "cell_type": "markdown",
   "metadata": {},
   "source": [
    "# A python primer"
   ]
  },
  {
   "cell_type": "markdown",
   "metadata": {},
   "source": [
    "## Let's *not* reinvent the wheel ...\n",
    "\n",
    "\n",
    "\n",
    "Some excellent ressources:\n",
    "    \n",
    "    * https://github.com/jrjohansson/scientific-python-lectures\n",
    "    * https://github.com/madscheme/introducing-python\n",
    "    \n",
    "    \n",
    "A compilation of great ressources\n",
    "\n",
    "https://github.com/CodementorIO/Python-Learning-Resources"
   ]
  },
  {
   "cell_type": "code",
   "execution_count": null,
   "metadata": {
    "collapsed": true
   },
   "outputs": [],
   "source": [
    "Aufgabe: kleine Programme selber schreiben; Hello world, einfache Arithmatik etc."
   ]
  }
 ],
 "metadata": {
  "kernelspec": {
   "display_name": "Python 3",
   "language": "python",
   "name": "python3"
  },
  "language_info": {
   "codemirror_mode": {
    "name": "ipython",
    "version": 3
   },
   "file_extension": ".py",
   "mimetype": "text/x-python",
   "name": "python",
   "nbconvert_exporter": "python",
   "pygments_lexer": "ipython3",
   "version": "3.6.0"
  }
 },
 "nbformat": 4,
 "nbformat_minor": 2
}
