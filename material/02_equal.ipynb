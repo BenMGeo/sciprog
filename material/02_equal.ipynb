{
 "cells": [
  {
   "cell_type": "markdown",
   "metadata": {},
   "source": [
    "## Some words on *equality*\n",
    "\n",
    "A variable in python stores the reference to a register in the memory, not the actual value. Each variable has a unique id."
   ]
  },
  {
   "cell_type": "code",
   "execution_count": 21,
   "metadata": {},
   "outputs": [
    {
     "name": "stdout",
     "output_type": "stream",
     "text": [
      "140730090353016\n",
      "140730091290144\n"
     ]
    }
   ],
   "source": [
    "a = 5.\n",
    "print(id(a))\n",
    "b = 5.\n",
    "print(id(b))\n"
   ]
  },
  {
   "cell_type": "markdown",
   "metadata": {},
   "source": [
    "If you assign a variable, the ID is passed. This means that the same object has just only two different names, but it is still the same object."
   ]
  },
  {
   "cell_type": "code",
   "execution_count": 22,
   "metadata": {},
   "outputs": [
    {
     "name": "stdout",
     "output_type": "stream",
     "text": [
      "140730090353016\n",
      "True\n"
     ]
    }
   ],
   "source": [
    "c = a\n",
    "print id(c)\n",
    "print c is a"
   ]
  },
  {
   "cell_type": "code",
   "execution_count": 23,
   "metadata": {},
   "outputs": [
    {
     "name": "stdout",
     "output_type": "stream",
     "text": [
      "7.0\n",
      "False\n"
     ]
    }
   ],
   "source": [
    "# let's do some changes\n",
    "c += 2.\n",
    "print(c)\n",
    "print c is a"
   ]
  },
  {
   "cell_type": "code",
   "execution_count": 24,
   "metadata": {},
   "outputs": [
    {
     "name": "stdout",
     "output_type": "stream",
     "text": [
      "7.0\n",
      "(5.0, 5.0)\n",
      "False\n",
      "True\n"
     ]
    }
   ],
   "source": [
    "print c\n",
    "c -= 2.\n",
    "print(c, a)\n",
    "print c is a\n",
    "print c == a"
   ]
  },
  {
   "cell_type": "markdown",
   "metadata": {},
   "source": [
    "### Remember\n",
    "\n",
    "* The `is` function checks if the ID of two objects are the same.\n",
    "* The `=` operator checks if the numerical value is the same"
   ]
  },
  {
   "cell_type": "markdown",
   "metadata": {},
   "source": [
    "### How is it for strings?"
   ]
  },
  {
   "cell_type": "code",
   "execution_count": 26,
   "metadata": {},
   "outputs": [
    {
     "name": "stdout",
     "output_type": "stream",
     "text": [
      "False\n",
      "False\n"
     ]
    }
   ],
   "source": [
    "s1 = 'hello'\n",
    "s2 = 'world'\n",
    "print(s1 is s2)\n",
    "print(s1 == s2)"
   ]
  },
  {
   "cell_type": "code",
   "execution_count": 27,
   "metadata": {},
   "outputs": [
    {
     "name": "stdout",
     "output_type": "stream",
     "text": [
      "True\n"
     ]
    }
   ],
   "source": [
    "s3 = s1\n",
    "print s1 is s3\n"
   ]
  },
  {
   "cell_type": "code",
   "execution_count": 36,
   "metadata": {},
   "outputs": [
    {
     "name": "stdout",
     "output_type": "stream",
     "text": [
      "True\n",
      "True\n",
      "(4425222400, 4425222400)\n"
     ]
    }
   ],
   "source": [
    "s4 = 'hello'  \n",
    "print(s1 is s4)   # note that even a new variable is generated, while its contents already exists, just a pointer is used\n",
    "print(s1 == s4)\n",
    "print(id(s1),id(s4))"
   ]
  },
  {
   "cell_type": "code",
   "execution_count": 37,
   "metadata": {},
   "outputs": [
    {
     "name": "stdout",
     "output_type": "stream",
     "text": [
      "hello geography\n",
      "4424936952\n",
      "False\n"
     ]
    }
   ],
   "source": [
    "s4 += ' geography'\n",
    "print(s4)\n",
    "print(id(s4))\n",
    "print(s4 is s1)"
   ]
  },
  {
   "cell_type": "markdown",
   "metadata": {},
   "source": [
    "### Where does it matter in particular? Working with functions"
   ]
  },
  {
   "cell_type": "code",
   "execution_count": 40,
   "metadata": {},
   "outputs": [
    {
     "name": "stdout",
     "output_type": "stream",
     "text": [
      "Hello World\n"
     ]
    }
   ],
   "source": [
    "def foo(a,b):\n",
    "    print(a + ' ' + b)\n",
    "    \n",
    "a = 'Hello'\n",
    "b = 'World'\n",
    "foo(a,b)"
   ]
  },
  {
   "cell_type": "code",
   "execution_count": 42,
   "metadata": {},
   "outputs": [
    {
     "name": "stdout",
     "output_type": "stream",
     "text": [
      "HelloWorld\n",
      "Hello\n"
     ]
    }
   ],
   "source": [
    "def foo1(a,b):\n",
    "    c = a+b\n",
    "    a = 'Munich'\n",
    "    print(c)\n",
    "    \n",
    "foo1(a,b)\n",
    "print(a)  # the original variable was unchanged"
   ]
  },
  {
   "cell_type": "markdown",
   "metadata": {},
   "source": [
    "## Scope of variables"
   ]
  },
  {
   "cell_type": "code",
   "execution_count": null,
   "metadata": {
    "collapsed": true
   },
   "outputs": [],
   "source": []
  }
 ],
 "metadata": {
  "kernelspec": {
   "display_name": "Python 2",
   "language": "python",
   "name": "python2"
  },
  "language_info": {
   "codemirror_mode": {
    "name": "ipython",
    "version": 2
   },
   "file_extension": ".py",
   "mimetype": "text/x-python",
   "name": "python",
   "nbconvert_exporter": "python",
   "pygments_lexer": "ipython2",
   "version": "2.7.13"
  }
 },
 "nbformat": 4,
 "nbformat_minor": 2
}
