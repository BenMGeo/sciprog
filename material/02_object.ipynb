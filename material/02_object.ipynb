{
 "cells": [
  {
   "cell_type": "markdown",
   "metadata": {},
   "source": [
    "## About classes and functions ... everyhting is an object\n",
    "\n",
    "A wealth of great intros to object oriented programming can be found on YouTube (\"e.g. search: python object classes\")\n",
    "\n",
    "\n",
    "### Object ... what?\n",
    "\n",
    "Python is entirely object oriented. This means that basically *everything* you deal with in python is a so called object. Let's dive into some example ...\n"
   ]
  },
  {
   "cell_type": "code",
   "execution_count": null,
   "metadata": {
    "collapsed": true
   },
   "outputs": [],
   "source": [
    "# some information about your car needed\n"
   ]
  },
  {
   "cell_type": "markdown",
   "metadata": {},
   "source": [
    "### O.k., let's drive"
   ]
  },
  {
   "cell_type": "code",
   "execution_count": 4,
   "metadata": {
    "collapsed": false
   },
   "outputs": [
    {
     "data": {
      "image/png": "[encoded data removed]",
      "text/plain": [
       "<matplotlib.figure.Figure at 0x116f60110>"
      ]
     },
     "metadata": {},
     "output_type": "display_data"
    }
   ],
   "source": [
    "%matplotlib inline\n",
    "import matplotlib.pyplot as plt\n",
    "import time\n",
    "f = plt.figure()\n",
    "ax=f.add_subplot(111)\n",
    "\n",
    "A = Ferrari()\n",
    "B = Beetle()\n",
    "for t in range(100):\n",
    "    A.plot(dt = 1.)\n",
    "    B.plot(dt = 1.)\n",
    "    ax.plot(i,i,'x')\n",
    "    \n",
    "    ...\n",
    "    \n",
    "    #time.sleep(1)\n",
    "    animation generation\n",
    "    http://jakevdp.github.io/blog/2013/05/12/embedding-matplotlib-animations/"
   ]
  },
  {
   "cell_type": "code",
   "execution_count": null,
   "metadata": {
    "collapsed": true
   },
   "outputs": [],
   "source": []
  }
 ],
 "metadata": {
  "kernelspec": {
   "display_name": "Python 2",
   "language": "python",
   "name": "python2"
  },
  "language_info": {
   "codemirror_mode": {
    "name": "ipython",
    "version": 2
   },
   "file_extension": ".py",
   "mimetype": "text/x-python",
   "name": "python",
   "nbconvert_exporter": "python",
   "pygments_lexer": "ipython2",
   "version": "2.7.12"
  }
 },
 "nbformat": 4,
 "nbformat_minor": 2
}
