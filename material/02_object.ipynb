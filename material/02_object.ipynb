{
 "cells": [
  {
   "cell_type": "markdown",
   "metadata": {},
   "source": [
    "## About classes and functions ... everything is an object\n",
    "\n",
    "A wealth of great intros to object oriented programming can be found on YouTube (\"e.g. search: python object classes\")\n",
    "\n",
    "\n",
    "### Object ... what?\n",
    "\n",
    "Python is entirely object oriented. This means that basically *everything* you deal with in python is a so called object. Let's dive into some example ...\n",
    "\n",
    "**It's worth and good practice to learn object oriented python programming from the very beginning. It will make your life so much easier!!!!**\n"
   ]
  },
  {
   "cell_type": "code",
   "execution_count": 5,
   "metadata": {},
   "outputs": [],
   "source": [
    "# The CAR example\n",
    "\n",
    "class Car(object):\n",
    "    def __init__(self, **kwargs):\n",
    "        self.pos = kwargs.get('pos', (0., 0.))\n",
    "        self._plot_offset = kwargs.get('offset', 1.)\n",
    "        self.speed = kwargs.get('speed', None)\n",
    "        assert self.speed is not None\n",
    "    \n",
    "    def move(self, dt):\n",
    "        \"\"\"\n",
    "        with this routine you can move the car depending on its speed\n",
    "        and time difference dt [hours]\n",
    "        \"\"\"\n",
    "        self.pos = self._get_new_position(dt)\n",
    "  \n",
    "    \n",
    "    def _get_new_position(self, dt):   # this would need to go in the move function\n",
    "        \"\"\"\n",
    "        calculate new position and return as tuple\n",
    "        \"\"\"\n",
    "        return (self.pos[0] + self.speed * dt, self._plot_offset)\n",
    "    \n",
    "    \n",
    "C = Car(speed=2.)"
   ]
  },
  {
   "cell_type": "code",
   "execution_count": 2,
   "metadata": {},
   "outputs": [
    {
     "name": "stdout",
     "output_type": "stream",
     "text": [
      "Help on Car in module __main__ object:\n",
      "\n",
      "class Car(__builtin__.object)\n",
      " |  Methods defined here:\n",
      " |  \n",
      " |  __init__(self)\n",
      " |  \n",
      " |  move(self)\n",
      " |      with this routine you can move the car\n",
      " |  \n",
      " |  ----------------------------------------------------------------------\n",
      " |  Data descriptors defined here:\n",
      " |  \n",
      " |  __dict__\n",
      " |      dictionary for instance variables (if defined)\n",
      " |  \n",
      " |  __weakref__\n",
      " |      list of weak references to the object (if defined)\n",
      "\n"
     ]
    }
   ],
   "source": [
    "# how to get information on Car?\n",
    "help(C)"
   ]
  },
  {
   "cell_type": "markdown",
   "metadata": {},
   "source": [
    "## Car race"
   ]
  },
  {
   "cell_type": "code",
   "execution_count": 16,
   "metadata": {},
   "outputs": [
    {
     "data": {
      "image/png": "[encoded data removed]",
      "text/plain": [
       "<matplotlib.figure.Figure at 0x1153c4b10>"
      ]
     },
     "metadata": {},
     "output_type": "display_data"
    }
   ],
   "source": [
    "%matplotlib inline\n",
    "import matplotlib.pyplot as plt  # this module is used for plotting (... see next week course)\n",
    "\n",
    "# o.k. now let's create some different cars with different properties ...\n",
    "# ... calculate the position of the car as function of time\n",
    "\n",
    "class Racer(Car):\n",
    "    \n",
    "    def __init__(self, **kwargs):\n",
    "        super(Racer, self).__init__(**kwargs)\n",
    "        self._init_figure(**kwargs)\n",
    "        self.color = kwargs.get('color', 'black')\n",
    "        self.marker = kwargs.get('marker', '*')\n",
    "        \n",
    "    def _init_figure(self, **kwargs):\n",
    "        self.ax = kwargs.get('ax', None)\n",
    "        if self.ax is None:\n",
    "            fig = plt.figure()\n",
    "            self.ax = fig.add_subplot(111)\n",
    "            self.ax.grid()\n",
    "        \n",
    "    def plot(self):\n",
    "        \"\"\"\n",
    "        Parameters\n",
    "        ----------\n",
    "        dt : float\n",
    "            time difference [h]\n",
    "        \"\"\"\n",
    "        self.ax.plot(self.pos[0], self.pos[1], marker=self.marker, color=self.color)\n",
    "        \n",
    "\n",
    "        \n",
    "\n",
    "R = Racer(speed=5.)\n",
    "R.move(3.)\n",
    "R.plot()\n",
    "        \n",
    "\n",
    "\n"
   ]
  },
  {
   "cell_type": "markdown",
   "metadata": {},
   "source": [
    "### let's play with different cars now ..."
   ]
  },
  {
   "cell_type": "code",
   "execution_count": 28,
   "metadata": {},
   "outputs": [
    {
     "data": {
      "image/png": "[encoded data removed]",
      "text/plain": [
       "<matplotlib.figure.Figure at 0x115fad850>"
      ]
     },
     "metadata": {},
     "output_type": "display_data"
    }
   ],
   "source": [
    "class RedBeetle(Racer):\n",
    "    def __init__(self, **kwargs):\n",
    "        super(RedBeetle, self).__init__(color='red', marker='o', speed=120., **kwargs)\n",
    "\n",
    "class MyOldBike(Racer):\n",
    "    def __init__(self, **kwargs):\n",
    "        super(MyOldBike, self).__init__(color='blue', marker='d', speed=20., **kwargs)\n",
    "        \n",
    "RB = RedBeetle()\n",
    "MyBike = MyOldBike(ax=RB.ax)\n",
    "\n",
    "RB.move(2.)\n",
    "\n",
    "RB.plot()\n",
    "MyBike.plot()\n",
    "\n",
    "# try to move and plot for all the objects ... how could that be done?"
   ]
  },
  {
   "cell_type": "markdown",
   "metadata": {},
   "source": [
    "### Let's play chess\n",
    "\n",
    "* [Some simple example](https://codereview.stackexchange.com/questions/101574/chess-game-in-python)\n",
    "* [Some very advanced library](https://github.com/niklasf/python-chess)\n",
    "\n",
    "So let's dive into it ... what do we need to be able to play chess?"
   ]
  },
  {
   "cell_type": "code",
   "execution_count": null,
   "metadata": {
    "collapsed": true
   },
   "outputs": [],
   "source": []
  }
 ],
 "metadata": {
  "kernelspec": {
   "display_name": "Python 2",
   "language": "python",
   "name": "python2"
  },
  "language_info": {
   "codemirror_mode": {
    "name": "ipython",
    "version": 2
   },
   "file_extension": ".py",
   "mimetype": "text/x-python",
   "name": "python",
   "nbconvert_exporter": "python",
   "pygments_lexer": "ipython2",
   "version": "2.7.13"
  }
 },
 "nbformat": 4,
 "nbformat_minor": 2
}
