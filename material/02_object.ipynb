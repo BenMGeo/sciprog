{
 "cells": [
  {
   "cell_type": "markdown",
   "metadata": {},
   "source": [
    "## About classes and functions ... everything is an object\n",
    "\n",
    "A wealth of great intros to object oriented programming can be found on YouTube (\"e.g. search: python object classes\")\n",
    "\n",
    "\n",
    "### Object ... what?\n",
    "\n",
    "Python is entirely object oriented. This means that basically *everything* you deal with in python is a so called object. Let's dive into some example ...\n"
   ]
  },
  {
   "cell_type": "code",
   "execution_count": 10,
   "metadata": {},
   "outputs": [],
   "source": [
    "# The CAR example\n",
    "\n",
    "class Car(object):\n",
    "    def __init__(self):\n",
    "        pass\n",
    "    \n",
    "    def move(self):\n",
    "        pass\n",
    "    \n",
    "C = Car()"
   ]
  },
  {
   "cell_type": "code",
   "execution_count": 11,
   "metadata": {},
   "outputs": [
    {
     "name": "stdout",
     "output_type": "stream",
     "text": [
      "Help on Car in module __main__ object:\n",
      "\n",
      "class Car(__builtin__.object)\n",
      " |  Methods defined here:\n",
      " |  \n",
      " |  __init__(self)\n",
      " |  \n",
      " |  move(self)\n",
      " |  \n",
      " |  ----------------------------------------------------------------------\n",
      " |  Data descriptors defined here:\n",
      " |  \n",
      " |  __dict__\n",
      " |      dictionary for instance variables (if defined)\n",
      " |  \n",
      " |  __weakref__\n",
      " |      list of weak references to the object (if defined)\n",
      "\n"
     ]
    }
   ],
   "source": [
    "# how to get information on Car?"
   ]
  },
  {
   "cell_type": "code",
   "execution_count": 12,
   "metadata": {
    "collapsed": true
   },
   "outputs": [],
   "source": [
    "# o.k. now let's create some different cars with different properties ..."
   ]
  },
  {
   "cell_type": "markdown",
   "metadata": {},
   "source": [
    "### Let's play chess\n",
    "\n",
    "* [Some simple example](https://codereview.stackexchange.com/questions/101574/chess-game-in-python)\n",
    "* [Some very advanced library](https://github.com/niklasf/python-chess)\n",
    "\n",
    "So let's dive into it ... what do we need to be able to play chess?"
   ]
  },
  {
   "cell_type": "code",
   "execution_count": null,
   "metadata": {
    "collapsed": true
   },
   "outputs": [],
   "source": []
  }
 ],
 "metadata": {
  "kernelspec": {
   "display_name": "Python 2",
   "language": "python",
   "name": "python2"
  },
  "language_info": {
   "codemirror_mode": {
    "name": "ipython",
    "version": 2
   },
   "file_extension": ".py",
   "mimetype": "text/x-python",
   "name": "python",
   "nbconvert_exporter": "python",
   "pygments_lexer": "ipython2",
   "version": "2.7.13"
  }
 },
 "nbformat": 4,
 "nbformat_minor": 2
}
