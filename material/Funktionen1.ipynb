{
 "cells": [
  {
   "cell_type": "code",
   "execution_count": 1,
   "metadata": {},
   "outputs": [
    {
     "name": "stdout",
     "output_type": "stream",
     "text": [
      "4.0\n",
      "9.0\n"
     ]
    }
   ],
   "source": [
    "x = 2\n",
    "y = 3\n",
    "\n",
    "print x**2.\n",
    "print y**2.\n",
    "\n"
   ]
  },
  {
   "cell_type": "markdown",
   "metadata": {},
   "source": [
    "## Funktionen"
   ]
  },
  {
   "cell_type": "code",
   "execution_count": 7,
   "metadata": {},
   "outputs": [
    {
     "name": "stdout",
     "output_type": "stream",
     "text": [
      "0.1\n",
      "0.171428571429\n",
      "1.47142857143\n",
      "2.1\n",
      "3.25714285714\n",
      "209.2\n",
      "0.557142857143\n"
     ]
    }
   ],
   "source": [
    "#def name():\n",
    "#    Befehle\n",
    "#    Beefehl2 \n",
    "\n",
    "def rechne(u):\n",
    "    return (u**2. + 3.)/70.\n",
    "    \n",
    "\n",
    "\n",
    "l = [2.,3.,10.,12.,15.,121]\n",
    "for x in l:\n",
    "    print rechne(x)\n",
    "    \n",
    "# hier sind 5000 Zeilen code dazwischen \n",
    "    \n",
    "    \n",
    "z = 6.\n",
    "print rechne(z)"
   ]
  },
  {
   "cell_type": "code",
   "execution_count": 18,
   "metadata": {},
   "outputs": [
    {
     "name": "stdout",
     "output_type": "stream",
     "text": [
      "False\n"
     ]
    }
   ],
   "source": [
    "def barbecue_weather(rain, temp):\n",
    "    # should  return True/False\n",
    "    \n",
    "    if rain > 0.:\n",
    "        barbecue = False\n",
    "    else:\n",
    "        if temp > 20.:\n",
    "            barbecue = True\n",
    "        else:\n",
    "            barbecue = False\n",
    "        \n",
    "    return barbecue\n",
    "\n",
    "def barbecue_weather2(rain, temp):\n",
    "    # should  return True/False\n",
    "    res = False\n",
    "    if (rain==0.) and (temp>20.):\n",
    "        res = True\n",
    "  \n",
    "    return res\n",
    "\n",
    "def barbecue_weather3(rain=0., temp=0.):  #  Namen vergibt man so\n",
    "    # should  return True/False\n",
    "    res = False\n",
    "    if (rain==0.) and (temp>20.):\n",
    "        res = True\n",
    "  \n",
    "    return res\n",
    "\n",
    "\n",
    "\n",
    "regen=20.\n",
    "temp = 5.\n",
    "\n",
    "print barbecue_weather3(temp=temp, rain=regen)\n",
    "print barbecue_weather3(rain=regen,temp=temp)\n",
    "      \n",
    "        \n",
    "        \n",
    "        "
   ]
  },
  {
   "cell_type": "markdown",
   "metadata": {},
   "source": [
    "Funktionsargumente\n",
    "\n",
    "* normale Argumente = keine Namen (args) --> arguments\n",
    "* Argumente mit Namen (kwargs) --> keyword arguments"
   ]
  },
  {
   "cell_type": "code",
   "execution_count": 11,
   "metadata": {},
   "outputs": [
    {
     "name": "stdout",
     "output_type": "stream",
     "text": [
      "ich bin faul...\n"
     ]
    }
   ],
   "source": [
    "def tunix():\n",
    "    print('ich bin faul...')\n",
    "    \n",
    "    \n",
    "r = tunix()"
   ]
  },
  {
   "cell_type": "code",
   "execution_count": 16,
   "metadata": {},
   "outputs": [
    {
     "name": "stdout",
     "output_type": "stream",
     "text": [
      "None\n",
      "True\n",
      "True\n"
     ]
    }
   ],
   "source": [
    "print(r)\n",
    "print(r is None)\n",
    "print(r == None)"
   ]
  },
  {
   "cell_type": "code",
   "execution_count": null,
   "metadata": {
    "collapsed": true
   },
   "outputs": [],
   "source": []
  }
 ],
 "metadata": {
  "kernelspec": {
   "display_name": "Python 2",
   "language": "python",
   "name": "python2"
  },
  "language_info": {
   "codemirror_mode": {
    "name": "ipython",
    "version": 2
   },
   "file_extension": ".py",
   "mimetype": "text/x-python",
   "name": "python",
   "nbconvert_exporter": "python",
   "pygments_lexer": "ipython2",
   "version": "2.7.13"
  }
 },
 "nbformat": 4,
 "nbformat_minor": 2
}
