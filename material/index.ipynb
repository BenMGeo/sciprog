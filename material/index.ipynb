{
 "cells": [
  {
   "cell_type": "markdown",
   "metadata": {
    "deletable": true,
    "editable": true
   },
   "source": [
    "# Course outline\n",
    "\n",
    "## Part 1: The theoretical part ...\n",
    "\n",
    "* [Introduction](00_Introduction.ipynb)\n",
    " * [A python primer](01_python_introduction.ipynb)\n",
    " * [Getting started](01_GettingStarted.ipynb)\n",
    "* General python introduction (2x)\n",
    " * [First steps ... basic data types, variables and operations](sub/jrjohansson/Lecture-1-Introduction-to-Python-Programming.ipynb)\n",
    " * [Everything is an object ... About functions and classes](02_object.ipynb)  TBD\n",
    " * [Some words about what is *equal*](02_equal.ipynb)\n",
    " * Keeping control of your programs ...\n",
    "\n",
    " \n",
    "* Numerical python (1x)\n",
    "* Plotting in python (1x)\n",
    "* Handling geospatial data (raster and vector); gdal and other cool tools (2x)\n",
    " * [GDAL virtual files and OSGEO ... ](xxx_gdal.ipynb)\n",
    "* Interpolation and data fitting (1x)\n",
    "* [Using python for GIS automatization ... the ArcGIS example](python_gis.ipynb)\n",
    "\n",
    "* Special aspects\n",
    " * making my code better\n",
    " * collaborative coding\n",
    " * automated testing and continuous integration\n",
    " * Time series analysis: `pandas`\n",
    "\n",
    "## Part 2: Let's hack ... the practical part\n",
    "\n",
    "\n",
    "\n",
    "\n"
   ]
  },
  {
   "cell_type": "code",
   "execution_count": null,
   "metadata": {
    "collapsed": true,
    "deletable": true,
    "editable": true
   },
   "outputs": [],
   "source": []
  }
 ],
 "metadata": {
  "kernelspec": {
   "display_name": "Python 2",
   "language": "python",
   "name": "python2"
  },
  "language_info": {
   "codemirror_mode": {
    "name": "ipython",
    "version": 2
   },
   "file_extension": ".py",
   "mimetype": "text/x-python",
   "name": "python",
   "nbconvert_exporter": "python",
   "pygments_lexer": "ipython2",
   "version": "2.7.12"
  }
 },
 "nbformat": 4,
 "nbformat_minor": 2
}
