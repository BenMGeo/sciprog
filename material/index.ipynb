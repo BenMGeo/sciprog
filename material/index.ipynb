{
 "cells": [
  {
   "cell_type": "markdown",
   "metadata": {
    "deletable": true,
    "editable": true
   },
   "source": [
    "# Course outline\n",
    "\n",
    "## Part 1: The theoretical part ...\n",
    "\n",
    "### Motivation and get it going\n",
    "* [Introduction](00_Introduction.ipynb)\n",
    " * [A python primer](01_python_introduction.ipynb)\n",
    " * [Getting started](01_GettingStarted.ipynb)\n",
    "----\n",
    " \n",
    "### General python introduction (2x)\n",
    " * [Python basics](sub/koldunov/02 - Python basics.ipynb)\n",
    " * [First steps ... basic data types, variables and operations](sub/jrjohansson/Lecture-1-Introduction-to-Python-Programming.ipynb)\n",
    " * [Everything is an object ... About functions and classes](02_object.ipynb)  TBD\n",
    " * [Some words about what is *equal*](02_equal.ipynb)\n",
    " * Keeping control of your programs ...\n",
    "----\n",
    " \n",
    "### Scientific modules in python\n",
    "\n",
    "* [Numerical python (numpy)](sub/koldunov/03 - NumPy arrays.ipynb) (1x)\n",
    " * [Some more advanced numpy stuff](sub/jrjohansson/Lecture-2-Numpy.ipynb)\n",
    " * Masked arrays\n",
    "* Plotting in python (matplotlib) (1x)\n",
    "\n",
    "### Geospatial data handling\n",
    "\n",
    "\n",
    "* Handling geospatial data (raster and vector); gdal and other cool tools (2x)\n",
    " * [GDAL virtual files and OSGEO ... ](xxx_gdal.ipynb)\n",
    "* Interpolation and data fitting (1x)\n",
    "* [Using python for GIS automatization ... the ArcGIS example](python_gis.ipynb)\n",
    "\n",
    "### Special aspects\n",
    " * making my code better\n",
    " * making my code faster ... how to achieve a speedup by a factor of $10^4$\n",
    " * collaborative coding\n",
    " * automated testing and continuous integration\n",
    " * Time series analysis: `pandas`\n",
    "\n",
    "## Part 2: Let's hack ... the practical part\n",
    "\n",
    "\n",
    "\n",
    "\n"
   ]
  },
  {
   "cell_type": "code",
   "execution_count": null,
   "metadata": {
    "collapsed": true,
    "deletable": true,
    "editable": true
   },
   "outputs": [],
   "source": []
  }
 ],
 "metadata": {
  "kernelspec": {
   "display_name": "Python 2",
   "language": "python",
   "name": "python2"
  },
  "language_info": {
   "codemirror_mode": {
    "name": "ipython",
    "version": 2
   },
   "file_extension": ".py",
   "mimetype": "text/x-python",
   "name": "python",
   "nbconvert_exporter": "python",
   "pygments_lexer": "ipython2",
   "version": "2.7.12"
  }
 },
 "nbformat": 4,
 "nbformat_minor": 2
}
