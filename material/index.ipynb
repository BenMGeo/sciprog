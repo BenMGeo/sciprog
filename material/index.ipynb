{
 "cells": [
  {
   "cell_type": "markdown",
   "metadata": {},
   "source": [
    "# Course outline\n",
    "\n",
    "* [Introduction](00_Introduction.ipynb)\n",
    "* General python introduction (2x)\n",
    "* Plotting in python (1x)\n",
    "* Numerical python (1x)\n",
    "* Handling geospatial data (raster and vector); gdal and other tools (2x)\n",
    "* Interpolation and data fitting (1x)\n",
    "* Special aspects\n",
    " * making my cod\n",
    " * collaborative coding\n",
    " * automated testing and continuous integration\n",
    " * Time series analysis: `pandas`\n",
    "\n",
    "**Practicals**\n",
    "\n",
    "\n",
    "\n"
   ]
  },
  {
   "cell_type": "code",
   "execution_count": null,
   "metadata": {
    "collapsed": true
   },
   "outputs": [],
   "source": []
  }
 ],
 "metadata": {
  "kernelspec": {
   "display_name": "Python 3",
   "language": "python",
   "name": "python3"
  },
  "language_info": {
   "codemirror_mode": {
    "name": "ipython",
    "version": 3
   },
   "file_extension": ".py",
   "mimetype": "text/x-python",
   "name": "python",
   "nbconvert_exporter": "python",
   "pygments_lexer": "ipython3",
   "version": "3.6.0"
  }
 },
 "nbformat": 4,
 "nbformat_minor": 2
}
