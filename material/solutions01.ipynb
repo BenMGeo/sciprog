{
 "cells": [
  {
   "cell_type": "markdown",
   "metadata": {},
   "source": [
    "# Simple looping\n",
    "\n",
    "1. Write a small script that prints 10 times some string.\n",
    "1. change your program now, so that it prints $N$ times the string, whereas $N$ can be any arbitrary positive integer\n",
    "1. modify the program now, that a function is doing the actual printing. This function should take a string as well as the number of printouts as arguments\n",
    "\n"
   ]
  },
  {
   "cell_type": "code",
   "execution_count": null,
   "metadata": {
    "collapsed": false
   },
   "outputs": [],
   "source": [
    "for i in range(10):\n",
    "    print i+1"
   ]
  },
  {
   "cell_type": "code",
   "execution_count": null,
   "metadata": {
    "collapsed": false
   },
   "outputs": [],
   "source": [
    "for i in range(1,11):\n",
    "    print i"
   ]
  },
  {
   "cell_type": "code",
   "execution_count": null,
   "metadata": {
    "collapsed": false
   },
   "outputs": [],
   "source": [
    "N=3\n",
    "for i in range(N):\n",
    "    print i+1"
   ]
  },
  {
   "cell_type": "code",
   "execution_count": null,
   "metadata": {
    "collapsed": false
   },
   "outputs": [],
   "source": [
    "def do_print(s, N):\n",
    "    for i in range(N):\n",
    "        print('%s, %i' % (s, i))\n",
    "    \n",
    "do_print('Hallo', 3)\n",
    "do_print('Welt', 5)"
   ]
  },
  {
   "cell_type": "markdown",
   "metadata": {},
   "source": [
    "# Playing with `if` clauses"
   ]
  },
  {
   "cell_type": "markdown",
   "metadata": {},
   "source": [
    "    1. Print all numbers from 1 ... 100 to the output in a loop"
   ]
  },
  {
   "cell_type": "code",
   "execution_count": null,
   "metadata": {
    "collapsed": false
   },
   "outputs": [],
   "source": [
    "for x in range(10): print x+1  # some alternative way of looping"
   ]
  },
  {
   "cell_type": "code",
   "execution_count": null,
   "metadata": {
    "collapsed": false
   },
   "outputs": [],
   "source": [
    "for x in range(100):\n",
    "    if x == 55:\n",
    "        print('****** %i ******' % x)\n",
    "    else:\n",
    "        print(x)"
   ]
  },
  {
   "cell_type": "code",
   "execution_count": null,
   "metadata": {
    "collapsed": true
   },
   "outputs": [],
   "source": []
  },
  {
   "cell_type": "markdown",
   "metadata": {},
   "source": [
    "# Stefan Boltzmann & Co\n",
    "\n",
    "Write a function that does the following:\n",
    "\n",
    "Given a temperature and emissivity, it should calculate and return\n",
    "\n",
    "a) the total emitted power by a body [W/m**2]\n",
    "\n",
    "b) the maximum wavelength of the emission [nm]\n",
    "\n",
    "\n",
    "Use a black body as a default setup, but allow that the user can also specify a grey body"
   ]
  },
  {
   "cell_type": "code",
   "execution_count": 19,
   "metadata": {
    "collapsed": false
   },
   "outputs": [
    {
     "name": "stdout",
     "output_type": "stream",
     "text": [
      "(73483200.0, 0.4829666666666667)\n",
      "(413.343, 9.659333333333334)\n"
     ]
    }
   ],
   "source": [
    "def sboltz(T, e):\n",
    "    return e*5.67E-8*T**4.  # W/m**2\n",
    "\n",
    "def wien(T):\n",
    "    return 2897.8/T  #returns lmax in mym\n",
    "\n",
    "def radiation(T, e=1.):\n",
    "    Q = sboltz(T, e)\n",
    "    l_max = wien(T)\n",
    "    return Q, l_max\n",
    "\n",
    "print radiation(6000.)\n",
    "\n",
    "print radiation(300., e=0.9)\n",
    "\n"
   ]
  },
  {
   "cell_type": "markdown",
   "metadata": {},
   "source": [
    "# Calculations with relative humidity\n",
    "\n",
    "\n",
    "**Task 1**: Given the relative humidity and air temperature, define a function that returns the actual water vapor pressure [Pa] as well as the saturated water vapor pressure.\n",
    "\n",
    "\n",
    "**Task 2**: use this function now further for the following task: Define a function that returns the dew point of the air, given a relative humidity and air temperature.\n",
    "\n",
    "\n",
    "\n",
    "\n"
   ]
  },
  {
   "cell_type": "code",
   "execution_count": 26,
   "metadata": {
    "collapsed": false
   },
   "outputs": [
    {
     "name": "stdout",
     "output_type": "stream",
     "text": [
      "(50.0, 12345.158192793637, 12345.158192793637)\n"
     ]
    }
   ],
   "source": [
    "import math\n",
    "def wvpressure(T, rh):\n",
    "    # uses the empirical Magnus formula for air over open water bodies\n",
    "    # validity limited to certain temperature regions\n",
    "    \n",
    "    # perform some validity checks\n",
    "    assert rh >= 0.\n",
    "    assert rh <= 1.\n",
    "    assert T > -45., 'Invalid temperature!'\n",
    "    assert T < 60.\n",
    "    \n",
    "    es = 6.112 * math.exp((17.62*T)/(243.12+T)) * 100.    # factor 100 as results should be in Pa\n",
    "    return es*rh, es\n",
    "    \n",
    "T=50.\n",
    "rh = 1.\n",
    "    \n",
    "e, es = wvpressure(T, rh)\n",
    "\n",
    "print(T, e, es)"
   ]
  },
  {
   "cell_type": "code",
   "execution_count": 35,
   "metadata": {
    "collapsed": false
   },
   "outputs": [
    {
     "name": "stdout",
     "output_type": "stream",
     "text": [
      "The dew point was found at a temperature of 6.500000 degrees Celsius\n"
     ]
    }
   ],
   "source": [
    "# search for dewpoint (the quick and dirty way ...)\n",
    "T = 10.\n",
    "rh = 0.8\n",
    "\n",
    "e, es = wvpressure(T, rh)\n",
    "\n",
    "# now we have the actual water vapor pressure and need to search for the temperature where this corresponds to Es\n",
    "# we use an itterative solution here\n",
    "\n",
    "t0 = -40.\n",
    "delta = 999999999.\n",
    "dt = 0.5\n",
    "t = t0*1.\n",
    "tsol = t0*1.\n",
    "tmax = T\n",
    "while t < tmax:  # this is not good practice to do it, but we will learn only later how to do it better ...\n",
    "    E, ES = wvpressure(t, rh)\n",
    "    if abs(ES-e) < delta:\n",
    "        delta = abs(ES-e)\n",
    "        tsol = t*1.\n",
    "    t += dt\n",
    "print('The dew point was found at a temperature of %f degrees Celsius' % tsol)\n",
    "\n"
   ]
  },
  {
   "cell_type": "raw",
   "metadata": {},
   "source": []
  }
 ],
 "metadata": {
  "kernelspec": {
   "display_name": "Python 2",
   "language": "python",
   "name": "python2"
  },
  "language_info": {
   "codemirror_mode": {
    "name": "ipython",
    "version": 2
   },
   "file_extension": ".py",
   "mimetype": "text/x-python",
   "name": "python",
   "nbconvert_exporter": "python",
   "pygments_lexer": "ipython2",
   "version": "2.7.13"
  }
 },
 "nbformat": 4,
 "nbformat_minor": 0
}
