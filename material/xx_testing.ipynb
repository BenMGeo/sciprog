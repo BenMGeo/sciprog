{
 "cells": [
  {
   "cell_type": "markdown",
   "metadata": {
    "deletable": true,
    "editable": true
   },
   "source": [
    "# Code testing and beyond"
   ]
  },
  {
   "cell_type": "markdown",
   "metadata": {
    "deletable": true,
    "editable": true
   },
   "source": [
    "## Let's start with a simple example\n",
    "\n",
    "We want to generate some code that is removing the linear trend from an arbitray timeseries to obtain a detrended timeseries. This means that we look for\n",
    "\n",
    "$y - (mx + b)$\n",
    "\n",
    "whereas $m$ and $b$ are linear slope estimators.\n",
    "\n",
    "Let's have a look on the [example file ...](testing/example.py)"
   ]
  },
  {
   "cell_type": "markdown",
   "metadata": {
    "collapsed": true,
    "deletable": true,
    "editable": true
   },
   "source": [
    "### What do we need or can test to ensure that our code works properly?"
   ]
  },
  {
   "cell_type": "markdown",
   "metadata": {
    "collapsed": true,
    "deletable": true,
    "editable": true
   },
   "source": [
    "### What kind of testing is existing?\n",
    "\n",
    "There are numerous different testing approaches existing. For a summary see [here](https://en.wikipedia.org/wiki/Software_testing):\n",
    "\n",
    "* unittesting = small **units** are tested\n",
    "* integration testing = **entire modules/programs** are tested how they integrate with other components of the same software\n",
    "* ..."
   ]
  },
  {
   "cell_type": "markdown",
   "metadata": {},
   "source": [
    "### How can we do that?\n",
    "\n",
    "Our friend are code testing modules. Probably the most common one is [unittest](https://docs.python.org/3/library/unittest.html), but others (e.g. pytest) exist as well.\n",
    "\n",
    "A very good introduction can be found int the [Hitchhickers guide to Python](http://docs.python-guide.org/en/latest/writing/tests/). Numerous other online ressources exist however as well.\n",
    "\n",
    "Typically, we then run tests using `nose`.\n",
    "\n",
    "### Let's do it!\n"
   ]
  },
  {
   "cell_type": "markdown",
   "metadata": {},
   "source": [
    "## Testing approaches\n",
    "\n",
    "* Test driven development = write tests first (turn coding upside down)\n",
    "* Continuous integration and testing"
   ]
  },
  {
   "cell_type": "markdown",
   "metadata": {
    "deletable": true,
    "editable": true
   },
   "source": [
    "## Continuous integration and testing\n",
    "\n",
    "Continuous integration facilitates your life! Code repository platforms like `github` or `bitbucket` allow you to link your code to external *services*. This can be a lot of different (usefull) things. \n",
    "\n",
    "Some examples from the [RT1 project](https://github.com/pygeo/rt1):\n",
    "\n",
    "* travis.ci = installs and builds your code automatically in different environments (e.g. python 2.7, 3.4, 3.5, 3.6 und Linux, OSX, Windows) and runs your tests --> everything works? Get a go! :-)\n",
    "* ReadTheDocs = automatically builds a nice documentation for your code and hosts it on a website (highly configurable)\n",
    "* [stickler-ci](https://stickler-ci.com): automatically test your code for compliance with a specific standard (e.g. [PEP8 standard](https://www.python.org/dev/peps/pep-0008/) for python)"
   ]
  },
  {
   "cell_type": "code",
   "execution_count": null,
   "metadata": {
    "collapsed": true,
    "deletable": true,
    "editable": true
   },
   "outputs": [],
   "source": []
  }
 ],
 "metadata": {
  "kernelspec": {
   "display_name": "Python 3",
   "language": "python",
   "name": "python3"
  },
  "language_info": {
   "codemirror_mode": {
    "name": "ipython",
    "version": 3
   },
   "file_extension": ".py",
   "mimetype": "text/x-python",
   "name": "python",
   "nbconvert_exporter": "python",
   "pygments_lexer": "ipython3",
   "version": "3.6.0"
  }
 },
 "nbformat": 4,
 "nbformat_minor": 2
}
